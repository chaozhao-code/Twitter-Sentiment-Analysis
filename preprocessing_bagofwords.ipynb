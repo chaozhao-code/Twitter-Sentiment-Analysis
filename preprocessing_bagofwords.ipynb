{
 "cells": [
  {
   "cell_type": "markdown",
   "source": [
    "## Load Necessary Packages"
   ],
   "metadata": {
    "collapsed": false
   }
  },
  {
   "cell_type": "code",
   "execution_count": 398,
   "outputs": [],
   "source": [
    "import tensorflow as tf\n",
    "\n",
    "import os\n",
    "import pandas as pd\n",
    "import re\n",
    "import string\n",
    "import numpy as np\n",
    "import json\n",
    "\n",
    "from nltk.stem import WordNetLemmatizer\n",
    "from nltk.tokenize import word_tokenize\n",
    "from gensim.models import Word2Vec\n",
    "from sklearn.pipeline import Pipeline\n",
    "from sklearn.naive_bayes import MultinomialNB\n",
    "from sklearn.feature_extraction.text import TfidfTransformer\n",
    "from sklearn.feature_extraction.text import CountVectorizer\n",
    "from sklearn.ensemble import AdaBoostClassifier, GradientBoostingClassifier\n",
    "from sklearn.neural_network import MLPClassifier\n",
    "from sklearn.metrics import accuracy_score, f1_score, precision_score, recall_score\n",
    "from sklearn.model_selection import train_test_split\n",
    "from sklearn.linear_model import SGDClassifier\n",
    "import matplotlib.pyplot as plt\n",
    "import seaborn as sns\n",
    "from collections import Counter"
   ],
   "metadata": {
    "collapsed": false
   }
  },
  {
   "cell_type": "code",
   "execution_count": 399,
   "outputs": [],
   "source": [
    "plt.style.use('ggplot')"
   ],
   "metadata": {
    "collapsed": false
   }
  },
  {
   "cell_type": "markdown",
   "source": [
    "## Load Dataset"
   ],
   "metadata": {
    "collapsed": false
   }
  },
  {
   "cell_type": "markdown",
   "source": [
    "Let `positive` as 2, `neutral` as 0 and `negative` as 1."
   ],
   "metadata": {
    "collapsed": false
   }
  },
  {
   "cell_type": "code",
   "execution_count": 400,
   "outputs": [],
   "source": [
    "def read_data(path):\n",
    "    '''\n",
    "    :param path: the path of dataset\n",
    "    :return:\n",
    "        x: list, element represents a text\n",
    "        y: list, the sentiment of the corresponding text\n",
    "    '''\n",
    "    y = []\n",
    "    x = []\n",
    "    with open(path) as f:\n",
    "        for line in f.readlines():\n",
    "            line = line.strip(\"\\n\")\n",
    "            line = line.split(\"\\t\")\n",
    "            if line[1] == 'neutral':\n",
    "                y.append(0)\n",
    "            elif line[1] == 'negative':\n",
    "                y.append(1)\n",
    "            else:\n",
    "                y.append(2)\n",
    "            x.append(line[2])\n",
    "    y = np.array(y)\n",
    "    cnt = Counter(y)\n",
    "    print(f\"There are {cnt[2]} positive samples, {cnt[0]} neutral samples and {cnt[1]} negative samples\")\n",
    "\n",
    "    return x, list(y)"
   ],
   "metadata": {
    "collapsed": false
   }
  },
  {
   "cell_type": "code",
   "execution_count": 401,
   "outputs": [
    {
     "name": "stdout",
     "output_type": "stream",
     "text": [
      "There are 575 positive samples, 739 neutral samples and 340 negative samples\n",
      "There are 1475 positive samples, 1513 neutral samples and 559 negative samples\n",
      "There are 3640 positive samples, 4586 neutral samples and 1458 negative samples\n",
      "There are 33 positive samples, 13 neutral samples and 40 negative samples\n",
      "There are 982 positive samples, 669 neutral samples and 202 negative samples\n",
      "There are 1038 positive samples, 987 neutral samples and 365 negative samples\n",
      "There are 170 positive samples, 253 neutral samples and 66 negative samples\n",
      "There are 843 positive samples, 765 neutral samples and 391 negative samples\n",
      "There are 994 positive samples, 681 neutral samples and 325 negative samples\n",
      "There are 7059 positive samples, 10342 neutral samples and 3231 negative samples\n",
      "There are 3094 positive samples, 2043 neutral samples and 863 negative samples\n"
     ]
    }
   ],
   "source": [
    "x_2013dev, y_2013dev = read_data('dataset/downloaded/twitter-2013dev-A.tsv')\n",
    "x_2013test, y_2013test = read_data('dataset/downloaded/twitter-2013test-A.tsv')\n",
    "x_2013train, y_2013train = read_data('dataset/downloaded/twitter-2013train-A.tsv')\n",
    "x_2014sarcasm, y_2014sarcasm = read_data('dataset/downloaded/twitter-2014sarcasm-A.tsv')\n",
    "x_2014test, y_2014test = read_data('dataset/downloaded/twitter-2014test-A.tsv')\n",
    "x_2015test, y_2015test = read_data('dataset/downloaded/twitter-2015test-A.tsv')\n",
    "x_2015train, y_2015train = read_data('dataset/downloaded/twitter-2015train-A.tsv')\n",
    "x_2016dev, y_2016dev = read_data('dataset/downloaded/twitter-2016dev-A.tsv')\n",
    "x_2016devtest, y_2016devtest = read_data('dataset/downloaded/twitter-2016devtest-A.tsv')\n",
    "x_2016test, y_2016test = read_data('dataset/downloaded/twitter-2016test-A.tsv')\n",
    "x_2016train, y_2016train = read_data('dataset/downloaded/twitter-2016train-A.tsv')"
   ],
   "metadata": {
    "collapsed": false
   }
  },
  {
   "cell_type": "markdown",
   "source": [
    "In addition to the sarcasm dataset, we mix other datasets."
   ],
   "metadata": {
    "collapsed": false
   }
  },
  {
   "cell_type": "code",
   "execution_count": 402,
   "outputs": [],
   "source": [
    "x = x_2016train + x_2016test + x_2016devtest + x_2016dev + x_2015train + x_2015test + x_2014test \\\n",
    "    +  x_2013train + x_2013test + x_2013dev\n",
    "y = y_2016train + y_2016test + y_2016devtest + y_2016dev + y_2015train + y_2015test + y_2014test \\\n",
    "    +  y_2013train + y_2013test + y_2013dev"
   ],
   "metadata": {
    "collapsed": false
   }
  },
  {
   "cell_type": "code",
   "execution_count": 403,
   "outputs": [],
   "source": [
    "x = np.array(x)\n",
    "y = np.array(y)"
   ],
   "metadata": {
    "collapsed": false
   }
  },
  {
   "cell_type": "markdown",
   "source": [
    "Split train and test dataset:"
   ],
   "metadata": {
    "collapsed": false
   }
  },
  {
   "cell_type": "code",
   "execution_count": 404,
   "outputs": [
    {
     "name": "stdout",
     "output_type": "stream",
     "text": [
      "For training dataset: \n",
      "Counter({0: 18062, 2: 15896, 1: 6240})\n",
      "For test dataset: \n",
      "Counter({0: 4516, 2: 3974, 1: 1560})\n"
     ]
    }
   ],
   "source": [
    "X_train, X_test, y_train, y_test = train_test_split(x, y, test_size=0.2, stratify=y, random_state=42)\n",
    "\n",
    "print(\"For training dataset: \")\n",
    "cnt = Counter(y_train)\n",
    "print(cnt)\n",
    "print(\"For test dataset: \")\n",
    "cnt = Counter(y_test)\n",
    "print(cnt)"
   ],
   "metadata": {
    "collapsed": false
   }
  },
  {
   "cell_type": "code",
   "execution_count": 405,
   "outputs": [
    {
     "name": "stdout",
     "output_type": "stream",
     "text": [
      "For sarcasm dataset: \n",
      "Counter({1: 40, 2: 33, 0: 13})\n"
     ]
    }
   ],
   "source": [
    "print(\"For sarcasm dataset: \")\n",
    "cnt = Counter(y_2014sarcasm)\n",
    "print(cnt)"
   ],
   "metadata": {
    "collapsed": false
   }
  },
  {
   "cell_type": "code",
   "execution_count": 406,
   "outputs": [
    {
     "data": {
      "text/plain": "50334"
     },
     "execution_count": 406,
     "metadata": {},
     "output_type": "execute_result"
    }
   ],
   "source": [
    "len(y_train) + len(y_test) + len(y_2014sarcasm)"
   ],
   "metadata": {
    "collapsed": false
   }
  },
  {
   "cell_type": "code",
   "execution_count": 407,
   "outputs": [
    {
     "data": {
      "text/plain": "array(['Our first concert of the year is coming up on November 6th (also Election Day).  Come see the 7th and 8th graders at MMS!',\n       '\"Great Price on Salmon! Copper River Salmon is just $9.99 a pound, fillet only, Thursday 5/24 thru Monday 5/28 while supplies last.\"',\n       '\"I got Reggie Wayne in the 4th, then worked it and got Miles Austin in the 5th\"',\n       \".@khalidalkhalifa Look at the media coverage of #Bahrain regime's arrest of Nabeel Rajab 1 Oct 2014 http://t.co/cVMnCb16j7\",\n       'Photoset: AUGUST 30: Shawn with Fifth Harmony on the VMAs Red Carpet http://t.co/o15J7lEW5j',\n       'Carmelo Anthony is going to put on a show tomorrow mark my words #TeamMelo #KnicksTape',\n       \"i just don't wanna miss anything it sucks waking up and realising that Zayn came back to 1D and the 5th album is out.\",\n       'SASA will be having the first ever Bhangra Bootcamp on November 7th - 10pm at CIF! Only $5 to learn from our very own NACS 2012 Champions!',\n       'wish you happy Holi - 08 March: PUTHUMUGANGAL THEVAI ...: Information about Science & Technology Course... http://t.co/UXFqLN1K #asematy',\n       'Taiwan wins visa free travel to US: Six Taiwanese tourists arrived in New York on Thursday as the first from the... http://t.co/Bk6WrD6F'],\n      dtype='<U200')"
     },
     "execution_count": 407,
     "metadata": {},
     "output_type": "execute_result"
    }
   ],
   "source": [
    "X_train[0:10]"
   ],
   "metadata": {
    "collapsed": false
   }
  },
  {
   "cell_type": "code",
   "execution_count": 408,
   "outputs": [
    {
     "data": {
      "text/plain": "<Figure size 640x480 with 1 Axes>",
      "image/png": "[encoded data removed]"
     },
     "metadata": {},
     "output_type": "display_data"
    }
   ],
   "source": [
    "plt.hist([len(sen) for sen in X_train], label='Train')\n",
    "plt.hist([len(sen) for sen in X_test], label='Test')\n",
    "plt.legend()\n",
    "plt.savefig(\"length_distribution\", dpi=1000)\n",
    "plt.xlabel(\"Sentence Length\")\n",
    "plt.ylabel(\"Count\")\n",
    "plt.show()"
   ],
   "metadata": {
    "collapsed": false
   }
  },
  {
   "cell_type": "markdown",
   "source": [
    "## Preprocessing"
   ],
   "metadata": {
    "collapsed": false
   }
  },
  {
   "cell_type": "markdown",
   "source": [
    "Remove URL:"
   ],
   "metadata": {
    "collapsed": false
   }
  },
  {
   "cell_type": "code",
   "execution_count": 409,
   "outputs": [],
   "source": [
    "def remove_URL(text):\n",
    "    new_text = []\n",
    "    for tweet in text:\n",
    "        new_text.append(re.sub(r'http\\S+', '', tweet))\n",
    "    return new_text"
   ],
   "metadata": {
    "collapsed": false
   }
  },
  {
   "cell_type": "code",
   "execution_count": 410,
   "outputs": [],
   "source": [
    "X_train = remove_URL(X_train)\n",
    "X_test = remove_URL(X_test)\n",
    "x_2014sarcasm = remove_URL(x_2014sarcasm)"
   ],
   "metadata": {
    "collapsed": false
   }
  },
  {
   "cell_type": "code",
   "execution_count": 411,
   "outputs": [
    {
     "data": {
      "text/plain": "['Our first concert of the year is coming up on November 6th (also Election Day).  Come see the 7th and 8th graders at MMS!',\n '\"Great Price on Salmon! Copper River Salmon is just $9.99 a pound, fillet only, Thursday 5/24 thru Monday 5/28 while supplies last.\"',\n '\"I got Reggie Wayne in the 4th, then worked it and got Miles Austin in the 5th\"',\n \".@khalidalkhalifa Look at the media coverage of #Bahrain regime's arrest of Nabeel Rajab 1 Oct 2014 \",\n 'Photoset: AUGUST 30: Shawn with Fifth Harmony on the VMAs Red Carpet ',\n 'Carmelo Anthony is going to put on a show tomorrow mark my words #TeamMelo #KnicksTape',\n \"i just don't wanna miss anything it sucks waking up and realising that Zayn came back to 1D and the 5th album is out.\",\n 'SASA will be having the first ever Bhangra Bootcamp on November 7th - 10pm at CIF! Only $5 to learn from our very own NACS 2012 Champions!',\n 'wish you happy Holi - 08 March: PUTHUMUGANGAL THEVAI ...: Information about Science & Technology Course...  #asematy',\n 'Taiwan wins visa free travel to US: Six Taiwanese tourists arrived in New York on Thursday as the first from the... ']"
     },
     "execution_count": 411,
     "metadata": {},
     "output_type": "execute_result"
    }
   ],
   "source": [
    "X_train[0:10]"
   ],
   "metadata": {
    "collapsed": false
   }
  },
  {
   "cell_type": "markdown",
   "source": [
    "Remove @user"
   ],
   "metadata": {
    "collapsed": false
   }
  },
  {
   "cell_type": "code",
   "execution_count": 412,
   "outputs": [],
   "source": [
    "def remove_at(text):\n",
    "    new_text = []\n",
    "    for tweet in text:\n",
    "        new_text.append(re.sub('@[\\w]*', '', tweet))\n",
    "    return new_text"
   ],
   "metadata": {
    "collapsed": false
   }
  },
  {
   "cell_type": "code",
   "execution_count": 413,
   "outputs": [],
   "source": [
    "X_train = remove_at(X_train)\n",
    "X_test = remove_at(X_test)\n",
    "x_2014sarcasm = remove_at(x_2014sarcasm)"
   ],
   "metadata": {
    "collapsed": false
   }
  },
  {
   "cell_type": "code",
   "execution_count": 414,
   "outputs": [
    {
     "data": {
      "text/plain": "['Our first concert of the year is coming up on November 6th (also Election Day).  Come see the 7th and 8th graders at MMS!',\n '\"Great Price on Salmon! Copper River Salmon is just $9.99 a pound, fillet only, Thursday 5/24 thru Monday 5/28 while supplies last.\"',\n '\"I got Reggie Wayne in the 4th, then worked it and got Miles Austin in the 5th\"',\n \". Look at the media coverage of #Bahrain regime's arrest of Nabeel Rajab 1 Oct 2014 \",\n 'Photoset: AUGUST 30: Shawn with Fifth Harmony on the VMAs Red Carpet ',\n 'Carmelo Anthony is going to put on a show tomorrow mark my words #TeamMelo #KnicksTape',\n \"i just don't wanna miss anything it sucks waking up and realising that Zayn came back to 1D and the 5th album is out.\",\n 'SASA will be having the first ever Bhangra Bootcamp on November 7th - 10pm at CIF! Only $5 to learn from our very own NACS 2012 Champions!',\n 'wish you happy Holi - 08 March: PUTHUMUGANGAL THEVAI ...: Information about Science & Technology Course...  #asematy',\n 'Taiwan wins visa free travel to US: Six Taiwanese tourists arrived in New York on Thursday as the first from the... ']"
     },
     "execution_count": 414,
     "metadata": {},
     "output_type": "execute_result"
    }
   ],
   "source": [
    "X_train[:10]"
   ],
   "metadata": {
    "collapsed": false
   }
  },
  {
   "cell_type": "markdown",
   "source": [
    "Lowercase:"
   ],
   "metadata": {
    "collapsed": false
   }
  },
  {
   "cell_type": "code",
   "execution_count": 415,
   "outputs": [],
   "source": [
    "X_train = [sentence.lower() for sentence in X_train]\n",
    "X_test = [sentence.lower() for sentence in X_test]\n",
    "x_2014sarcasm = [sentence.lower() for sentence in x_2014sarcasm]"
   ],
   "metadata": {
    "collapsed": false
   }
  },
  {
   "cell_type": "markdown",
   "source": [
    "Remove punctuations, numbers and special characters:"
   ],
   "metadata": {
    "collapsed": false
   }
  },
  {
   "cell_type": "code",
   "execution_count": 416,
   "outputs": [],
   "source": [
    "def remove_pns(text):\n",
    "    new_text = []\n",
    "    for tweet in text:\n",
    "        new_text.append(re.sub('[^a-zA-Z#]', ' ', tweet))\n",
    "    return new_text"
   ],
   "metadata": {
    "collapsed": false
   }
  },
  {
   "cell_type": "code",
   "execution_count": 417,
   "outputs": [],
   "source": [
    "X_train = remove_pns(X_train)\n",
    "X_test = remove_pns(X_test)\n",
    "x_2014sarcasm = remove_pns(x_2014sarcasm)"
   ],
   "metadata": {
    "collapsed": false
   }
  },
  {
   "cell_type": "code",
   "execution_count": 418,
   "outputs": [
    {
     "data": {
      "text/plain": "['our first concert of the year is coming up on november  th  also election day    come see the  th and  th graders at mms ',\n ' great price on salmon  copper river salmon is just       a pound  fillet only  thursday      thru monday      while supplies last  ',\n ' i got reggie wayne in the  th  then worked it and got miles austin in the  th ',\n '  look at the media coverage of #bahrain regime s arrest of nabeel rajab   oct      ',\n 'photoset  august     shawn with fifth harmony on the vmas red carpet ',\n 'carmelo anthony is going to put on a show tomorrow mark my words #teammelo #knickstape',\n 'i just don t wanna miss anything it sucks waking up and realising that zayn came back to  d and the  th album is out ',\n 'sasa will be having the first ever bhangra bootcamp on november  th     pm at cif  only    to learn from our very own nacs      champions ',\n 'wish you happy holi      march  puthumugangal thevai      information about science   technology course     #asematy',\n 'taiwan wins visa free travel to us  six taiwanese tourists arrived in new york on thursday as the first from the    ']"
     },
     "execution_count": 418,
     "metadata": {},
     "output_type": "execute_result"
    }
   ],
   "source": [
    "X_train[0:10]"
   ],
   "metadata": {
    "collapsed": false
   }
  },
  {
   "cell_type": "code",
   "execution_count": 419,
   "outputs": [],
   "source": [
    "def top10_hashtag(text, y, label=0, name='hashtag_pos.png'):\n",
    "    cnt = Counter()\n",
    "    for i in range(len(text)):\n",
    "        if y[i] == label:\n",
    "            tweet = text[i]\n",
    "            tag = re.findall(\"#(\\w+)\", tweet)\n",
    "            for i in tag:\n",
    "                cnt[i] += 1\n",
    "\n",
    "    if label == 0:\n",
    "        samp = 'neutral'\n",
    "    elif label == 1:\n",
    "        samp = 'negative'\n",
    "    else:\n",
    "        samp = 'positive'\n",
    "\n",
    "    res = cnt.most_common(10)\n",
    "\n",
    "    words = [i[0] for i in res]\n",
    "    count = [i[1] for i in res]\n",
    "\n",
    "    df = pd.DataFrame({'Hashtag': words, 'Count': count})\n",
    "\n",
    "    sns.barplot(df, x = 'Hashtag', y = 'Count')\n",
    "    plt.title(f'The top-10 Hasgtag for {samp} samples')\n",
    "    plt.xticks(rotation = 45)\n",
    "    plt.savefig(name, dpi=1000)\n",
    "    plt.show()"
   ],
   "metadata": {
    "collapsed": false
   }
  },
  {
   "cell_type": "code",
   "execution_count": 420,
   "outputs": [
    {
     "data": {
      "text/plain": "<Figure size 640x480 with 1 Axes>",
      "image/png": "[encoded data removed]"
     },
     "metadata": {},
     "output_type": "display_data"
    }
   ],
   "source": [
    "top10_hashtag(X_train, y_train, label=2, name='hashtag_pos.png')\n"
   ],
   "metadata": {
    "collapsed": false
   }
  },
  {
   "cell_type": "code",
   "execution_count": 421,
   "outputs": [
    {
     "data": {
      "text/plain": "<Figure size 640x480 with 1 Axes>",
      "image/png": "[encoded data removed]"
     },
     "metadata": {},
     "output_type": "display_data"
    }
   ],
   "source": [
    "top10_hashtag(X_train, y_train, label=0, name='hashtag_neu.png')"
   ],
   "metadata": {
    "collapsed": false
   }
  },
  {
   "cell_type": "code",
   "execution_count": 422,
   "outputs": [
    {
     "data": {
      "text/plain": "<Figure size 640x480 with 1 Axes>",
      "image/png": "[encoded data removed]"
     },
     "metadata": {},
     "output_type": "display_data"
    }
   ],
   "source": [
    "top10_hashtag(X_train, y_train, label=1, name='hashtag_neg.png')"
   ],
   "metadata": {
    "collapsed": false
   }
  },
  {
   "cell_type": "markdown",
   "source": [
    "Tokenization:"
   ],
   "metadata": {
    "collapsed": false
   }
  },
  {
   "cell_type": "code",
   "execution_count": 423,
   "outputs": [],
   "source": [
    "train_token = [word_tokenize(word) for word in X_train]\n",
    "test_token = [word_tokenize(word) for word in X_test]\n",
    "sarcasm_token = [word_tokenize(word) for word in x_2014sarcasm]"
   ],
   "metadata": {
    "collapsed": false
   }
  },
  {
   "cell_type": "code",
   "execution_count": 424,
   "outputs": [
    {
     "data": {
      "text/plain": "[['our',\n  'first',\n  'concert',\n  'of',\n  'the',\n  'year',\n  'is',\n  'coming',\n  'up',\n  'on',\n  'november',\n  'th',\n  'also',\n  'election',\n  'day',\n  'come',\n  'see',\n  'the',\n  'th',\n  'and',\n  'th',\n  'graders',\n  'at',\n  'mms'],\n ['great',\n  'price',\n  'on',\n  'salmon',\n  'copper',\n  'river',\n  'salmon',\n  'is',\n  'just',\n  'a',\n  'pound',\n  'fillet',\n  'only',\n  'thursday',\n  'thru',\n  'monday',\n  'while',\n  'supplies',\n  'last'],\n ['i',\n  'got',\n  'reggie',\n  'wayne',\n  'in',\n  'the',\n  'th',\n  'then',\n  'worked',\n  'it',\n  'and',\n  'got',\n  'miles',\n  'austin',\n  'in',\n  'the',\n  'th'],\n ['look',\n  'at',\n  'the',\n  'media',\n  'coverage',\n  'of',\n  '#',\n  'bahrain',\n  'regime',\n  's',\n  'arrest',\n  'of',\n  'nabeel',\n  'rajab',\n  'oct'],\n ['photoset',\n  'august',\n  'shawn',\n  'with',\n  'fifth',\n  'harmony',\n  'on',\n  'the',\n  'vmas',\n  'red',\n  'carpet'],\n ['carmelo',\n  'anthony',\n  'is',\n  'going',\n  'to',\n  'put',\n  'on',\n  'a',\n  'show',\n  'tomorrow',\n  'mark',\n  'my',\n  'words',\n  '#',\n  'teammelo',\n  '#',\n  'knickstape'],\n ['i',\n  'just',\n  'don',\n  't',\n  'wan',\n  'na',\n  'miss',\n  'anything',\n  'it',\n  'sucks',\n  'waking',\n  'up',\n  'and',\n  'realising',\n  'that',\n  'zayn',\n  'came',\n  'back',\n  'to',\n  'd',\n  'and',\n  'the',\n  'th',\n  'album',\n  'is',\n  'out'],\n ['sasa',\n  'will',\n  'be',\n  'having',\n  'the',\n  'first',\n  'ever',\n  'bhangra',\n  'bootcamp',\n  'on',\n  'november',\n  'th',\n  'pm',\n  'at',\n  'cif',\n  'only',\n  'to',\n  'learn',\n  'from',\n  'our',\n  'very',\n  'own',\n  'nacs',\n  'champions'],\n ['wish',\n  'you',\n  'happy',\n  'holi',\n  'march',\n  'puthumugangal',\n  'thevai',\n  'information',\n  'about',\n  'science',\n  'technology',\n  'course',\n  '#',\n  'asematy'],\n ['taiwan',\n  'wins',\n  'visa',\n  'free',\n  'travel',\n  'to',\n  'us',\n  'six',\n  'taiwanese',\n  'tourists',\n  'arrived',\n  'in',\n  'new',\n  'york',\n  'on',\n  'thursday',\n  'as',\n  'the',\n  'first',\n  'from',\n  'the']]"
     },
     "execution_count": 424,
     "metadata": {},
     "output_type": "execute_result"
    }
   ],
   "source": [
    "train_token[0:10]"
   ],
   "metadata": {
    "collapsed": false
   }
  },
  {
   "cell_type": "markdown",
   "source": [
    "Remove short words:"
   ],
   "metadata": {
    "collapsed": false
   }
  },
  {
   "cell_type": "code",
   "execution_count": 425,
   "outputs": [],
   "source": [
    "def remove_short(text):\n",
    "    new_text = []\n",
    "    for tweet in text:\n",
    "        new_tweet = []\n",
    "        for word in tweet:\n",
    "            if len(word) > 3:\n",
    "                new_tweet.append(word)\n",
    "        new_text.append(new_tweet)\n",
    "    return new_text"
   ],
   "metadata": {
    "collapsed": false
   }
  },
  {
   "cell_type": "code",
   "execution_count": 426,
   "outputs": [],
   "source": [
    "train_token = remove_short(train_token)\n",
    "test_token = remove_short(test_token)\n",
    "sarcasm_token = remove_short(sarcasm_token)"
   ],
   "metadata": {
    "collapsed": false
   }
  },
  {
   "cell_type": "markdown",
   "source": [
    "Lemmitazation:"
   ],
   "metadata": {
    "collapsed": false
   }
  },
  {
   "cell_type": "code",
   "execution_count": 427,
   "outputs": [],
   "source": [
    "lemmatizer = WordNetLemmatizer()\n",
    "\n",
    "def lemma(text):\n",
    "    new_text = []\n",
    "    for tweet in text:\n",
    "        new_tweet = []\n",
    "        for word in tweet:\n",
    "            new_tweet.append(lemmatizer.lemmatize(word))\n",
    "        new_text.append(new_tweet)\n",
    "    return new_text"
   ],
   "metadata": {
    "collapsed": false
   }
  },
  {
   "cell_type": "code",
   "execution_count": 428,
   "outputs": [],
   "source": [
    "train_token = lemma(train_token)\n",
    "test_token = lemma(test_token)\n",
    "sarcasm_token = lemma(sarcasm_token)"
   ],
   "metadata": {
    "collapsed": false
   }
  },
  {
   "cell_type": "markdown",
   "source": [
    "Join tokens as sentence again:"
   ],
   "metadata": {
    "collapsed": false
   }
  },
  {
   "cell_type": "code",
   "execution_count": 429,
   "outputs": [],
   "source": [
    "def merge_sentence(text):\n",
    "    new_text = []\n",
    "    for tweet in text:\n",
    "        new_text.append(' '.join(tweet))\n",
    "    return new_text"
   ],
   "metadata": {
    "collapsed": false
   }
  },
  {
   "cell_type": "code",
   "execution_count": 430,
   "outputs": [],
   "source": [
    "train_sentence = merge_sentence(train_token)\n",
    "test_sentence = merge_sentence(test_token)\n",
    "sarcasm_sentence = merge_sentence(sarcasm_token)"
   ],
   "metadata": {
    "collapsed": false
   }
  },
  {
   "cell_type": "code",
   "execution_count": 431,
   "outputs": [
    {
     "data": {
      "text/plain": "['first concert year coming november also election come grader',\n 'great price salmon copper river salmon just pound fillet only thursday thru monday while supply last',\n 'reggie wayne then worked mile austin',\n 'look medium coverage bahrain regime arrest nabeel rajab',\n 'photoset august shawn with fifth harmony vmas carpet',\n 'carmelo anthony going show tomorrow mark word teammelo knickstape',\n 'just miss anything suck waking realising that zayn came back album',\n 'sasa will having first ever bhangra bootcamp november only learn from very nac champion',\n 'wish happy holi march puthumugangal thevai information about science technology course asematy',\n 'taiwan win visa free travel taiwanese tourist arrived york thursday first from']"
     },
     "execution_count": 431,
     "metadata": {},
     "output_type": "execute_result"
    }
   ],
   "source": [
    "train_sentence[:10]"
   ],
   "metadata": {
    "collapsed": false
   }
  },
  {
   "cell_type": "markdown",
   "source": [
    "Undersampling and oversampling"
   ],
   "metadata": {
    "collapsed": false
   }
  },
  {
   "cell_type": "code",
   "execution_count": 432,
   "outputs": [
    {
     "name": "stdout",
     "output_type": "stream",
     "text": [
      "Counter({2: 15896, 0: 15896, 1: 15896})\n"
     ]
    }
   ],
   "source": [
    "import random\n",
    "\n",
    "y_train_sampling = []\n",
    "train_sentence_sampling = []\n",
    "train_token_sampling = []\n",
    "\n",
    "neg_sample_index = []\n",
    "pos_sample_index = []\n",
    "neu_sample_index = []\n",
    "for i in range(len(y_train)):\n",
    "    if y_train[i] == 2:\n",
    "        pos_sample_index.append(i)\n",
    "    elif y_train[i] == 1:\n",
    "        neg_sample_index.append(i)\n",
    "    else:\n",
    "        neu_sample_index.append(i)\n",
    "\n",
    "for index in pos_sample_index:\n",
    "    y_train_sampling.append(y_train[index])\n",
    "    train_sentence_sampling.append(train_sentence[index])\n",
    "    train_token_sampling.append(train_token[index])\n",
    "\n",
    "for i in range(len(pos_sample_index)):\n",
    "    y_train_sampling.append(y_train[neu_sample_index[i]])\n",
    "    train_sentence_sampling.append(train_sentence[neu_sample_index[i]])\n",
    "    train_token_sampling.append(train_token[neu_sample_index[i]])\n",
    "\n",
    "for index in neg_sample_index:\n",
    "    y_train_sampling.append(y_train[index])\n",
    "    train_sentence_sampling.append(train_sentence[index])\n",
    "    train_token_sampling.append(train_token[index])\n",
    "\n",
    "for i in range(len(pos_sample_index)-len(neg_sample_index)):\n",
    "    index = np.random.randint(low=0, high=len(neg_sample_index))\n",
    "    y_train_sampling.append(y_train[neg_sample_index[index]])\n",
    "    train_sentence_sampling.append(train_sentence[neg_sample_index[index]])\n",
    "    train_token_sampling.append(train_token[neg_sample_index[index]])\n",
    "\n",
    "cnt = Counter(y_train_sampling)\n",
    "print(cnt)\n",
    "\n",
    "zip_list = list(zip(y_train_sampling, train_sentence_sampling, train_token_sampling))\n",
    "random.shuffle(zip_list)\n",
    "y_train_sampling, train_sentence_sampling, train_token_sampling = zip(*zip_list)\n",
    "\n",
    "y_train_sampling = np.array(y_train_sampling)"
   ],
   "metadata": {
    "collapsed": false
   }
  },
  {
   "cell_type": "code",
   "execution_count": 433,
   "outputs": [],
   "source": [
    "y_train = np.array(y_train_sampling)\n",
    "train_sentence = train_sentence_sampling\n",
    "train_token = train_token_sampling"
   ],
   "metadata": {
    "collapsed": false
   }
  },
  {
   "cell_type": "markdown",
   "source": [
    "Till now, preprocessing is end. We store these data as files for further analysis:"
   ],
   "metadata": {
    "collapsed": false
   }
  },
  {
   "cell_type": "code",
   "execution_count": 434,
   "outputs": [],
   "source": [
    "with open(\"train_sentence\", \"w\") as f:\n",
    "    json.dump(train_sentence, f)\n",
    "with open(\"test_sentence\", \"w\") as f:\n",
    "    json.dump(test_sentence, f)\n",
    "with open(\"sarcasm_sentence\", \"w\") as f:\n",
    "    json.dump(sarcasm_sentence, f)"
   ],
   "metadata": {
    "collapsed": false
   }
  },
  {
   "cell_type": "code",
   "execution_count": 435,
   "outputs": [],
   "source": [
    "with open(\"train_token\", \"w\") as f:\n",
    "    json.dump(train_token, f)\n",
    "with open(\"test_token\", \"w\") as f:\n",
    "    json.dump(test_token, f)\n",
    "with open(\"sarcasm_token\", \"w\") as f:\n",
    "    json.dump(sarcasm_token, f)"
   ],
   "metadata": {
    "collapsed": false
   }
  },
  {
   "cell_type": "code",
   "execution_count": 436,
   "outputs": [],
   "source": [
    "np.save('y_train.npy', y_train)\n",
    "np.save('y_test.npy', y_test)\n",
    "np.save('y_sarcasm.npy', y_2014sarcasm)"
   ],
   "metadata": {
    "collapsed": false
   }
  },
  {
   "cell_type": "markdown",
   "source": [
    "## Random Classification"
   ],
   "metadata": {
    "collapsed": false
   },
   "execution_count": 9
  },
  {
   "cell_type": "code",
   "execution_count": 299,
   "outputs": [],
   "source": [
    "np.random.seed(202301)"
   ],
   "metadata": {
    "collapsed": false
   }
  },
  {
   "cell_type": "code",
   "execution_count": 300,
   "outputs": [],
   "source": [
    "def result(test_pred, sarcasm_pred):\n",
    "    '''\n",
    "    :param test_pred: prediction of test dataset\n",
    "    :param sarcasm_pred: prediction of sarcasm dataset\n",
    "    :return:\n",
    "    '''\n",
    "    acc = accuracy_score(y_test, test_pred)\n",
    "    pre = precision_score(y_test, test_pred, average=\"weighted\")\n",
    "    recall = recall_score(y_test, test_pred, average=\"weighted\")\n",
    "    f1 = f1_score(y_test, test_pred, average=\"weighted\")\n",
    "    acc_on_sarcasm = accuracy_score(y_2014sarcasm, sarcasm_pred)\n",
    "    print(f'Accuracy is {acc}')\n",
    "    print(f'Precision is {pre}')\n",
    "    print(f'Recall is {recall}')\n",
    "    print(f'F1-Score is {f1}')\n",
    "    print(f'Accuracy on sarcasm dataset is {acc_on_sarcasm}')\n",
    "\n",
    "    return acc, pre, recall, f1, acc_on_sarcasm"
   ],
   "metadata": {
    "collapsed": false
   }
  },
  {
   "cell_type": "code",
   "execution_count": 306,
   "outputs": [
    {
     "name": "stdout",
     "output_type": "stream",
     "text": [
      "Average Accuracy is 0.3440796019900498\n",
      "Average Recall is 0.3451594230683221\n",
      "F1-Score is 0.30067009233345965\n",
      "Average Accuracy on sarcasm dataset is 0.3488372093023256\n",
      "Average Recall on sarcasm dataset is 0.3542152292152292\n",
      "F1-Score on sarcasm dataset is 0.38669950738916253\n"
     ]
    },
    {
     "data": {
      "text/plain": "(0.3440796019900498,\n 0.3451594230683221,\n 0.30067009233345965,\n 0.3488372093023256,\n 0.3542152292152292,\n 0.38669950738916253)"
     },
     "execution_count": 306,
     "metadata": {},
     "output_type": "execute_result"
    }
   ],
   "source": [
    "np.random.seed(202301)\n",
    "pred = np.random.randint(3, size=len(y_test))\n",
    "pred_sarcasm = np.random.randint(3, size=len(y_2014sarcasm))\n",
    "result(y_test, y_sarcasm, pred, pred_sarcasm, show=True)"
   ],
   "metadata": {
    "collapsed": false
   }
  },
  {
   "cell_type": "markdown",
   "source": [
    "## Baseline Models"
   ],
   "metadata": {
    "collapsed": false
   }
  },
  {
   "cell_type": "code",
   "execution_count": 357,
   "outputs": [],
   "source": [
    "import warnings\n",
    "warnings.filterwarnings('ignore')"
   ],
   "metadata": {
    "collapsed": false
   }
  },
  {
   "cell_type": "code",
   "execution_count": 303,
   "outputs": [],
   "source": [
    "from utils import read_data\n",
    "from utils import result\n",
    "\n",
    "train_sentence, test_sentence, sarcasm_sentence, train_token, test_token, sarcasm_token, y_train, y_test, y_sarcasm = read_data()"
   ],
   "metadata": {
    "collapsed": false
   }
  },
  {
   "cell_type": "code",
   "execution_count": 358,
   "outputs": [],
   "source": [
    "bayes_count = Pipeline([\n",
    "('vect', CountVectorizer()),\n",
    "('clf', MultinomialNB()),\n",
    "])\n",
    "bayes_tf = Pipeline([\n",
    "('vect', CountVectorizer()),\n",
    "('tf', TfidfTransformer(use_idf=False)),\n",
    "('clf', MultinomialNB()),\n",
    "])\n",
    "bayes_tfidf = Pipeline([\n",
    "('vect', CountVectorizer()),\n",
    "('tfidf', TfidfTransformer(use_idf=True)),\n",
    "('clf', MultinomialNB()),\n",
    "])\n",
    "\n",
    "adaboost_count = Pipeline([\n",
    "('vect', CountVectorizer()),\n",
    "('clf', GradientBoostingClassifier(n_estimators = 100, random_state=20221004)),\n",
    "])\n",
    "adaboost_tf = Pipeline([\n",
    "('vect', CountVectorizer()),\n",
    "('tf', TfidfTransformer(use_idf=False)),\n",
    "('clf', GradientBoostingClassifier(n_estimators = 100, random_state=20221004)),\n",
    "])\n",
    "adaboost_tfidf = Pipeline([\n",
    "('vect', CountVectorizer()),\n",
    "('tfidf', TfidfTransformer(use_idf=True)),\n",
    "('clf', GradientBoostingClassifier(n_estimators = 100, random_state=20221004)),\n",
    "])\n",
    "\n",
    "mlp_count = Pipeline([\n",
    "('vect', CountVectorizer()),\n",
    "('clf', MLPClassifier(learning_rate_init=0.01, batch_size=64, max_iter=10)),\n",
    "])\n",
    "mlp_tf = Pipeline([\n",
    "('vect', CountVectorizer()),\n",
    "('tf', TfidfTransformer(use_idf=False)),\n",
    "('clf', MLPClassifier(learning_rate_init=0.01, batch_size=64, max_iter=10)),\n",
    "])\n",
    "mlp_tfidf = Pipeline([\n",
    "('vect', CountVectorizer()),\n",
    "('tfidf', TfidfTransformer(use_idf=True)),\n",
    "('clf', MLPClassifier(learning_rate_init=0.01, batch_size=64, max_iter=10)),\n",
    "])\n",
    "\n",
    "models = [bayes_count, bayes_tf, bayes_tfidf, adaboost_count, adaboost_tf, adaboost_tfidf, \\\n",
    "        mlp_count, mlp_tf, mlp_tfidf]\n",
    "models_name = ['bayes_count', 'bayes_tf', 'bayes_tfidf', 'adaboost_count', 'adaboost_tf', 'adaboost_tfidf', \\\n",
    "        'mlp_count', 'mlp_tf', 'mlp_tfidf']"
   ],
   "metadata": {
    "collapsed": false
   }
  },
  {
   "cell_type": "code",
   "execution_count": 305,
   "outputs": [
    {
     "name": "stdout",
     "output_type": "stream",
     "text": [
      "=========== bayes_count ===========\n",
      "Average Accuracy is 0.5909452736318408\n",
      "Average Recall is 0.6054370274635814\n",
      "F1-Score is 0.581405505051773\n",
      "Average Accuracy on sarcasm dataset is 0.5465116279069767\n",
      "Average Recall on sarcasm dataset is 0.5068570318570319\n",
      "F1-Score on sarcasm dataset is 0.5788780120481928\n",
      "=========== bayes_tf ===========\n",
      "Average Accuracy is 0.5880597014925373\n",
      "Average Recall is 0.6112104591132131\n",
      "F1-Score is 0.5848635534442685\n",
      "Average Accuracy on sarcasm dataset is 0.5\n",
      "Average Recall on sarcasm dataset is 0.4735236985236985\n",
      "F1-Score on sarcasm dataset is 0.5119653288110043\n",
      "=========== bayes_tfidf ===========\n",
      "Average Accuracy is 0.5830845771144278\n",
      "Average Recall is 0.6033700119036247\n",
      "F1-Score is 0.5767826590814323\n",
      "Average Accuracy on sarcasm dataset is 0.5116279069767442\n",
      "Average Recall on sarcasm dataset is 0.4800893550893551\n",
      "F1-Score on sarcasm dataset is 0.5468135326514556\n",
      "=========== adaboost_count ===========\n",
      "Average Accuracy is 0.5840796019900497\n",
      "Average Recall is 0.555373766228077\n",
      "F1-Score is 0.4971249819335988\n",
      "Average Accuracy on sarcasm dataset is 0.43023255813953487\n",
      "Average Recall on sarcasm dataset is 0.5167637917637918\n",
      "F1-Score on sarcasm dataset is 0.42063492063492064\n",
      "=========== adaboost_tf ===========\n",
      "Average Accuracy is 0.5835820895522388\n",
      "Average Recall is 0.5524087746683758\n",
      "F1-Score is 0.49562169608979767\n",
      "Average Accuracy on sarcasm dataset is 0.4186046511627907\n",
      "Average Recall on sarcasm dataset is 0.5084304584304585\n",
      "F1-Score on sarcasm dataset is 0.4027777777777778\n",
      "=========== adaboost_tfidf ===========\n",
      "Average Accuracy is 0.5833830845771144\n",
      "Average Recall is 0.5507719133929336\n",
      "F1-Score is 0.4935928261363258\n",
      "Average Accuracy on sarcasm dataset is 0.4069767441860465\n",
      "Average Recall on sarcasm dataset is 0.4827894327894328\n",
      "F1-Score on sarcasm dataset is 0.3977777777777778\n",
      "=========== mlp_count ===========\n",
      "Average Accuracy is 0.608457711442786\n",
      "Average Recall is 0.5651942212245722\n",
      "F1-Score is 0.5464110693177155\n",
      "Average Accuracy on sarcasm dataset is 0.4186046511627907\n",
      "Average Recall on sarcasm dataset is 0.4324980574980575\n",
      "F1-Score on sarcasm dataset is 0.408708560118753\n",
      "=========== mlp_tf ===========\n",
      "Average Accuracy is 0.6019900497512438\n",
      "Average Recall is 0.5599128450284971\n",
      "F1-Score is 0.5417205168200852\n",
      "Average Accuracy on sarcasm dataset is 0.47674418604651164\n",
      "Average Recall on sarcasm dataset is 0.5052447552447553\n",
      "F1-Score on sarcasm dataset is 0.48860398860398857\n",
      "=========== mlp_tfidf ===========\n",
      "Average Accuracy is 0.5994029850746269\n",
      "Average Recall is 0.5533559642334772\n",
      "F1-Score is 0.5324444856996461\n",
      "Average Accuracy on sarcasm dataset is 0.43023255813953487\n",
      "Average Recall on sarcasm dataset is 0.4563714063714064\n",
      "F1-Score on sarcasm dataset is 0.4177911044477761\n"
     ]
    }
   ],
   "source": [
    "np.random.seed(202301)\n",
    "for i in range(len(models)):\n",
    "    model = models[i]\n",
    "    model.fit(train_sentence, y_train)\n",
    "    print(\"===========\", models_name[i], \"===========\")\n",
    "    pred = model.predict(test_sentence)\n",
    "    pred_sarcasm = model.predict(sarcasm_sentence)\n",
    "    result(y_test, y_sarcasm, pred, pred_sarcasm, show=True)"
   ],
   "metadata": {
    "collapsed": false
   }
  },
  {
   "cell_type": "code",
   "execution_count": null,
   "outputs": [],
   "source": [],
   "metadata": {
    "collapsed": false
   }
  },
  {
   "cell_type": "markdown",
   "source": [
    "No preprocessing:"
   ],
   "metadata": {
    "collapsed": false
   }
  },
  {
   "cell_type": "code",
   "execution_count": 360,
   "outputs": [
    {
     "name": "stdout",
     "output_type": "stream",
     "text": [
      "=========== bayes_count ===========\n",
      "Average Accuracy is 0.625273631840796\n",
      "Average Recall is 0.5462608125855238\n",
      "F1-Score is 0.5112956912808532\n",
      "Average Accuracy on sarcasm dataset is 0.43023255813953487\n",
      "Average Recall on sarcasm dataset is 0.4807498057498057\n",
      "F1-Score on sarcasm dataset is 0.3203086112493778\n",
      "=========== bayes_tf ===========\n",
      "Average Accuracy is 0.6092537313432835\n",
      "Average Recall is 0.47516292422743706\n",
      "F1-Score is 0.31793740521163655\n",
      "Average Accuracy on sarcasm dataset is 0.3953488372093023\n",
      "Average Recall on sarcasm dataset is 0.4988344988344989\n",
      "F1-Score on sarcasm dataset is 0.27906976744186046\n",
      "=========== bayes_tfidf ===========\n",
      "Average Accuracy is 0.6079601990049751\n",
      "Average Recall is 0.4768466779351302\n",
      "F1-Score is 0.3276545693365934\n",
      "Average Accuracy on sarcasm dataset is 0.3953488372093023\n",
      "Average Recall on sarcasm dataset is 0.4677544677544678\n",
      "F1-Score on sarcasm dataset is 0.29885057471264365\n"
     ]
    }
   ],
   "source": [
    "np.random.seed(202301)\n",
    "for i in range(3):\n",
    "    model = models[i]\n",
    "    model.fit(X_train, y_train)\n",
    "    print(\"===========\", models_name[i], \"===========\")\n",
    "    pred = model.predict(X_test)\n",
    "    pred_sarcasm = model.predict(x_2014sarcasm)\n",
    "    result(y_test, y_sarcasm, pred, pred_sarcasm, show=True)"
   ],
   "metadata": {
    "collapsed": false
   }
  },
  {
   "cell_type": "markdown",
   "source": [
    "Preprocessing but no oversampling and undersampling:"
   ],
   "metadata": {
    "collapsed": false
   }
  },
  {
   "cell_type": "code",
   "execution_count": 386,
   "outputs": [
    {
     "name": "stdout",
     "output_type": "stream",
     "text": [
      "=========== bayes_count ===========\n",
      "Average Accuracy is 0.6233830845771144\n",
      "Average Recall is 0.5641966138557022\n",
      "F1-Score is 0.5461351467203754\n",
      "Average Accuracy on sarcasm dataset is 0.4186046511627907\n",
      "Average Recall on sarcasm dataset is 0.4653457653457653\n",
      "F1-Score on sarcasm dataset is 0.36785539814362483\n",
      "=========== bayes_tf ===========\n",
      "Average Accuracy is 0.6128358208955224\n",
      "Average Recall is 0.48318447696892086\n",
      "F1-Score is 0.3413810764901908\n",
      "Average Accuracy on sarcasm dataset is 0.36046511627906974\n",
      "Average Recall on sarcasm dataset is 0.40637140637140634\n",
      "F1-Score on sarcasm dataset is 0.28409090909090906\n",
      "=========== bayes_tfidf ===========\n",
      "Average Accuracy is 0.605273631840796\n",
      "Average Recall is 0.481051248584446\n",
      "F1-Score is 0.35188711838016495\n",
      "Average Accuracy on sarcasm dataset is 0.36046511627906974\n",
      "Average Recall on sarcasm dataset is 0.40637140637140634\n",
      "F1-Score on sarcasm dataset is 0.28735632183908044\n"
     ]
    }
   ],
   "source": [
    "np.random.seed(202301)\n",
    "for i in range(3):\n",
    "    model = models[i]\n",
    "    model.fit(train_sentence, y_train)\n",
    "    print(\"===========\", models_name[i], \"===========\")\n",
    "    pred = model.predict(test_sentence)\n",
    "    pred_sarcasm = model.predict(sarcasm_sentence)\n",
    "    result(y_test, y_sarcasm, pred, pred_sarcasm, show=True)"
   ],
   "metadata": {
    "collapsed": false
   }
  },
  {
   "cell_type": "markdown",
   "source": [
    "Oversampling and undersampling but no preprocessing:\n"
   ],
   "metadata": {
    "collapsed": false
   }
  },
  {
   "cell_type": "code",
   "execution_count": 396,
   "outputs": [
    {
     "name": "stdout",
     "output_type": "stream",
     "text": [
      "Counter({2: 15896, 0: 15896, 1: 15896})\n"
     ]
    }
   ],
   "source": [
    "import random\n",
    "\n",
    "y_train_sampling = []\n",
    "train_sentence_sampling = []\n",
    "\n",
    "neg_sample_index = []\n",
    "pos_sample_index = []\n",
    "neu_sample_index = []\n",
    "for i in range(len(y_train)):\n",
    "    if y_train[i] == 2:\n",
    "        pos_sample_index.append(i)\n",
    "    elif y_train[i] == 1:\n",
    "        neg_sample_index.append(i)\n",
    "    else:\n",
    "        neu_sample_index.append(i)\n",
    "\n",
    "for index in pos_sample_index:\n",
    "    y_train_sampling.append(y_train[index])\n",
    "    train_sentence_sampling.append(X_train[index])\n",
    "\n",
    "for i in range(len(pos_sample_index)):\n",
    "    y_train_sampling.append(y_train[neu_sample_index[i]])\n",
    "    train_sentence_sampling.append(X_train[neu_sample_index[i]])\n",
    "\n",
    "for index in neg_sample_index:\n",
    "    y_train_sampling.append(y_train[index])\n",
    "    train_sentence_sampling.append(X_train[index])\n",
    "\n",
    "for i in range(len(pos_sample_index)-len(neg_sample_index)):\n",
    "    index = np.random.randint(low=0, high=len(neg_sample_index))\n",
    "    y_train_sampling.append(y_train[neg_sample_index[index]])\n",
    "    train_sentence_sampling.append(X_train[neg_sample_index[index]])\n",
    "\n",
    "cnt = Counter(y_train_sampling)\n",
    "print(cnt)\n",
    "\n",
    "zip_list = list(zip(y_train_sampling, train_sentence_sampling))\n",
    "random.shuffle(zip_list)\n",
    "y_train_sampling, train_sentence_sampling = zip(*zip_list)\n",
    "\n",
    "y_train_sampling = np.array(y_train_sampling)"
   ],
   "metadata": {
    "collapsed": false
   }
  },
  {
   "cell_type": "code",
   "execution_count": 397,
   "outputs": [
    {
     "name": "stdout",
     "output_type": "stream",
     "text": [
      "=========== bayes_count ===========\n",
      "Average Accuracy is 0.5789054726368159\n",
      "Average Recall is 0.5981921034375474\n",
      "F1-Score is 0.572025966251408\n",
      "Average Accuracy on sarcasm dataset is 0.5581395348837209\n",
      "Average Recall on sarcasm dataset is 0.5360334110334111\n",
      "F1-Score on sarcasm dataset is 0.5570127504553734\n",
      "=========== bayes_tf ===========\n",
      "Average Accuracy is 0.5740298507462687\n",
      "Average Recall is 0.6025921178948853\n",
      "F1-Score is 0.5748228951738072\n",
      "Average Accuracy on sarcasm dataset is 0.5\n",
      "Average Recall on sarcasm dataset is 0.4735236985236985\n",
      "F1-Score on sarcasm dataset is 0.501812250815513\n",
      "=========== bayes_tfidf ===========\n",
      "Average Accuracy is 0.5702487562189055\n",
      "Average Recall is 0.5999800286731994\n",
      "F1-Score is 0.56997694943752\n",
      "Average Accuracy on sarcasm dataset is 0.5581395348837209\n",
      "Average Recall on sarcasm dataset is 0.5151903651903652\n",
      "F1-Score on sarcasm dataset is 0.5857298871496178\n"
     ]
    }
   ],
   "source": [
    "np.random.seed(202301)\n",
    "for i in range(3):\n",
    "    model = models[i]\n",
    "    model.fit(train_sentence_sampling, y_train_sampling)\n",
    "    print(\"===========\", models_name[i], \"===========\")\n",
    "    pred = model.predict(test_sentence)\n",
    "    pred_sarcasm = model.predict(x_2014sarcasm)\n",
    "    result(y_test, y_sarcasm, pred, pred_sarcasm, show=True)"
   ],
   "metadata": {
    "collapsed": false
   }
  },
  {
   "cell_type": "code",
   "execution_count": null,
   "outputs": [],
   "source": [],
   "metadata": {
    "collapsed": false
   }
  }
 ],
 "metadata": {
  "kernelspec": {
   "display_name": "Python 3",
   "language": "python",
   "name": "python3"
  },
  "language_info": {
   "codemirror_mode": {
    "name": "ipython",
    "version": 2
   },
   "file_extension": ".py",
   "mimetype": "text/x-python",
   "name": "python",
   "nbconvert_exporter": "python",
   "pygments_lexer": "ipython2",
   "version": "2.7.6"
  }
 },
 "nbformat": 4,
 "nbformat_minor": 0
}
