{
 "cells": [
  {
   "cell_type": "code",
   "execution_count": 1,
   "metadata": {
    "collapsed": true
   },
   "outputs": [
    {
     "name": "stderr",
     "output_type": "stream",
     "text": [
      "/opt/homebrew/anaconda3/envs/tf/lib/python3.9/site-packages/xgboost/compat.py:36: FutureWarning: pandas.Int64Index is deprecated and will be removed from pandas in a future version. Use pandas.Index with the appropriate dtype instead.\n",
      "  from pandas import MultiIndex, Int64Index\n"
     ]
    }
   ],
   "source": [
    "from utils import read_data\n",
    "from utils import result\n",
    "\n",
    "import xgboost as xgb\n",
    "\n",
    "import tensorflow as tf\n",
    "\n",
    "import os\n",
    "import pandas as pd\n",
    "import re\n",
    "import string\n",
    "import numpy as np\n",
    "import json\n",
    "\n",
    "from nltk.stem import WordNetLemmatizer\n",
    "from nltk.tokenize import word_tokenize\n",
    "from gensim.models import Word2Vec\n",
    "from sklearn.pipeline import Pipeline\n",
    "from sklearn.naive_bayes import MultinomialNB\n",
    "from sklearn.feature_extraction.text import TfidfTransformer\n",
    "from sklearn.feature_extraction.text import CountVectorizer\n",
    "from sklearn.ensemble import AdaBoostClassifier, GradientBoostingClassifier\n",
    "from sklearn.neural_network import MLPClassifier\n",
    "from sklearn.metrics import accuracy_score, f1_score, precision_score, recall_score\n",
    "from sklearn.model_selection import train_test_split\n",
    "from sklearn.linear_model import SGDClassifier\n",
    "import matplotlib.pyplot as plt\n",
    "import seaborn as sns\n",
    "from collections import Counter\n",
    "\n",
    "from gensim.models import doc2vec\n",
    "import gensim\n",
    "import random\n",
    "from tqdm import tqdm\n",
    "import xgboost as xgb\n",
    "\n",
    "import warnings\n",
    "warnings.filterwarnings('ignore')"
   ]
  },
  {
   "cell_type": "code",
   "execution_count": 20,
   "outputs": [],
   "source": [
    "plt.style.use('ggplot')"
   ],
   "metadata": {
    "collapsed": false
   }
  },
  {
   "cell_type": "code",
   "execution_count": 2,
   "outputs": [],
   "source": [
    "import nltk\n",
    "from nltk.corpus import stopwords"
   ],
   "metadata": {
    "collapsed": false
   }
  },
  {
   "cell_type": "code",
   "execution_count": 3,
   "outputs": [],
   "source": [
    "train_sentence, test_sentence, sarcasm_sentence, train_token, test_token, sarcasm_token, y_train, y_test, y_sarcasm = read_data()"
   ],
   "metadata": {
    "collapsed": false
   }
  },
  {
   "cell_type": "code",
   "execution_count": 4,
   "outputs": [],
   "source": [
    "stwords = set(stopwords.words('english'))"
   ],
   "metadata": {
    "collapsed": false
   }
  },
  {
   "cell_type": "code",
   "execution_count": 5,
   "outputs": [],
   "source": [
    "def top_token(text, y, label=0, top=100):\n",
    "    cnt = Counter()\n",
    "    for i in range(len(text)):\n",
    "        tweet = text[i]\n",
    "        if y[i] == label:\n",
    "            for token in tweet:\n",
    "                cnt[token] += 1\n",
    "    return cnt.most_common(top)"
   ],
   "metadata": {
    "collapsed": false
   }
  },
  {
   "cell_type": "code",
   "execution_count": 18,
   "outputs": [],
   "source": [
    "def rule_based(top=100):\n",
    "    postop = set([i[0] for i in top_token(train_token, y_train, label=2, top=top)])\n",
    "    negtop = set([i[0] for i in top_token(train_token, y_train, label=1, top=top)])\n",
    "    neutop = set([i[0] for i in top_token(train_token, y_train, label=0, top=top)])\n",
    "\n",
    "    pred = np.zeros(shape=y_test.shape)\n",
    "    pred_sarcasm = np.zeros(shape=y_sarcasm.shape)\n",
    "\n",
    "    for i in range(len(test_token)):\n",
    "        tweet = test_token[i]\n",
    "        score = np.array([0, 0, 0])\n",
    "        for token in tweet:\n",
    "            if token in postop:\n",
    "                score[2] += 1\n",
    "            if token in negtop:\n",
    "                score[1] += 1\n",
    "            if token in neutop:\n",
    "                score[0] += 1\n",
    "            pred[i] = score.argmax()\n",
    "\n",
    "    for i in range(len(sarcasm_token)):\n",
    "        tweet = sarcasm_token[i]\n",
    "        score = np.array([0, 0, 0])\n",
    "        for token in tweet:\n",
    "            if token in postop:\n",
    "                score[2] += 1\n",
    "            if token in negtop:\n",
    "                score[1] += 1\n",
    "            if token in neutop:\n",
    "                score[0] += 1\n",
    "            pred_sarcasm[i] = score.argmax()\n",
    "\n",
    "    return(result(y_test, y_sarcasm, pred, pred_sarcasm, show=False))"
   ],
   "metadata": {
    "collapsed": false
   }
  },
  {
   "cell_type": "code",
   "execution_count": 43,
   "outputs": [
    {
     "data": {
      "text/plain": "0"
     },
     "execution_count": 43,
     "metadata": {},
     "output_type": "execute_result"
    }
   ],
   "source": [
    "score = np.array([2, 2, 2])"
   ],
   "metadata": {
    "collapsed": false
   }
  },
  {
   "cell_type": "code",
   "execution_count": 16,
   "outputs": [
    {
     "name": "stdout",
     "output_type": "stream",
     "text": [
      "Average Accuracy is 0.4230845771144279\n",
      "Average Recall is 0.35204699070298223\n",
      "F1-Score is 0.1456033073787583\n",
      "Average Accuracy on sarcasm dataset is 0.2441860465116279\n",
      "Average Recall on sarcasm dataset is 0.37422299922299923\n",
      "F1-Score on sarcasm dataset is 0.22195121951219512\n"
     ]
    }
   ],
   "source": [
    "rule_based(top=10)"
   ],
   "metadata": {
    "collapsed": false
   }
  },
  {
   "cell_type": "code",
   "execution_count": 8,
   "outputs": [
    {
     "name": "stdout",
     "output_type": "stream",
     "text": [
      "Average Accuracy is 0.4309452736318408\n",
      "Average Recall is 0.33953880977795947\n",
      "F1-Score is 0.06022052586938083\n",
      "Average Accuracy on sarcasm dataset is 0.1744186046511628\n",
      "Average Recall on sarcasm dataset is 0.3326923076923077\n",
      "F1-Score on sarcasm dataset is 0.06249999999999999\n"
     ]
    }
   ],
   "source": [
    "rule_based(top=5)"
   ],
   "metadata": {
    "collapsed": false
   }
  },
  {
   "cell_type": "code",
   "execution_count": 9,
   "outputs": [
    {
     "name": "stdout",
     "output_type": "stream",
     "text": [
      "Average Accuracy is 0.5103482587064677\n",
      "Average Recall is 0.4394643702610723\n",
      "F1-Score is 0.31115155167842734\n",
      "Average Accuracy on sarcasm dataset is 0.29069767441860467\n",
      "Average Recall on sarcasm dataset is 0.3973193473193473\n",
      "F1-Score on sarcasm dataset is 0.281283422459893\n"
     ]
    }
   ],
   "source": [
    "rule_based(top=50)"
   ],
   "metadata": {
    "collapsed": false
   }
  },
  {
   "cell_type": "code",
   "execution_count": 10,
   "outputs": [
    {
     "name": "stdout",
     "output_type": "stream",
     "text": [
      "Average Accuracy is 0.5086567164179104\n",
      "Average Recall is 0.4499947530904731\n",
      "F1-Score is 0.3339690612417885\n",
      "Average Accuracy on sarcasm dataset is 0.3372093023255814\n",
      "Average Recall on sarcasm dataset is 0.4324203574203574\n",
      "F1-Score on sarcasm dataset is 0.3484848484848485\n"
     ]
    }
   ],
   "source": [
    "rule_based(top=70)"
   ],
   "metadata": {
    "collapsed": false
   }
  },
  {
   "cell_type": "code",
   "execution_count": 11,
   "outputs": [
    {
     "name": "stdout",
     "output_type": "stream",
     "text": [
      "Average Accuracy is 0.5207960199004975\n",
      "Average Recall is 0.4704041482592877\n",
      "F1-Score is 0.37421608803659223\n",
      "Average Accuracy on sarcasm dataset is 0.3488372093023256\n",
      "Average Recall on sarcasm dataset is 0.4096736596736597\n",
      "F1-Score on sarcasm dataset is 0.3854679802955665\n"
     ]
    }
   ],
   "source": [
    "rule_based(top=100)"
   ],
   "metadata": {
    "collapsed": false
   }
  },
  {
   "cell_type": "code",
   "execution_count": 12,
   "outputs": [
    {
     "name": "stdout",
     "output_type": "stream",
     "text": [
      "Average Accuracy is 0.5176119402985074\n",
      "Average Recall is 0.4676840599117173\n",
      "F1-Score is 0.3789607369200468\n",
      "Average Accuracy on sarcasm dataset is 0.3023255813953488\n",
      "Average Recall on sarcasm dataset is 0.3745726495726496\n",
      "F1-Score on sarcasm dataset is 0.3217306441119063\n"
     ]
    }
   ],
   "source": [
    "rule_based(top=150)"
   ],
   "metadata": {
    "collapsed": false
   }
  },
  {
   "cell_type": "code",
   "execution_count": 13,
   "outputs": [
    {
     "name": "stdout",
     "output_type": "stream",
     "text": [
      "Average Accuracy is 0.5066666666666667\n",
      "Average Recall is 0.46267668086298314\n",
      "F1-Score is 0.36514427769037194\n",
      "Average Accuracy on sarcasm dataset is 0.4186046511627907\n",
      "Average Recall on sarcasm dataset is 0.4995920745920746\n",
      "F1-Score on sarcasm dataset is 0.46232439335887615\n"
     ]
    }
   ],
   "source": [
    "rule_based(top=200)"
   ],
   "metadata": {
    "collapsed": false
   }
  },
  {
   "cell_type": "code",
   "execution_count": 14,
   "outputs": [
    {
     "name": "stdout",
     "output_type": "stream",
     "text": [
      "Average Accuracy is 0.5164179104477612\n",
      "Average Recall is 0.4840206014245709\n",
      "F1-Score is 0.3994208831531914\n",
      "Average Accuracy on sarcasm dataset is 0.32558139534883723\n",
      "Average Recall on sarcasm dataset is 0.42055167055167053\n",
      "F1-Score on sarcasm dataset is 0.34340456890198967\n"
     ]
    }
   ],
   "source": [
    "rule_based(top=1000)"
   ],
   "metadata": {
    "collapsed": false
   }
  },
  {
   "cell_type": "code",
   "execution_count": 19,
   "outputs": [],
   "source": [
    "avg_acc = []\n",
    "avg_recall = []\n",
    "f1 = []\n",
    "avg_acc_sarcasm = []\n",
    "avg_recall_sarcasm = []\n",
    "f1_sarcasm = []\n",
    "\n",
    "for t in [5, 10, 50, 100, 150, 200, 1000]:\n",
    "    r1, r2, r3, r4, r5, r6 = rule_based(top=t)\n",
    "    avg_acc.append(r1)\n",
    "    avg_recall.append(r2)\n",
    "    f1.append(r3)\n",
    "    avg_acc_sarcasm.append(r4)\n",
    "    avg_recall_sarcasm.append(r5)\n",
    "    f1_sarcasm.append(r6)"
   ],
   "metadata": {
    "collapsed": false
   }
  },
  {
   "cell_type": "code",
   "execution_count": 42,
   "outputs": [
    {
     "data": {
      "text/plain": "<Figure size 640x480 with 1 Axes>",
      "image/png": "[encoded data removed]"
     },
     "metadata": {},
     "output_type": "display_data"
    }
   ],
   "source": [
    "top = ['5', '10', '50', '100', '150', '200', '1000']\n",
    "\n",
    "x = np.arange(7)\n",
    "plt.plot(x, avg_acc, 'c', label='Accuracy')\n",
    "plt.plot(x, avg_recall, 'm', label='AvgRec')\n",
    "plt.plot(x, f1, 'y', label='F1')\n",
    "plt.plot(x, avg_acc_sarcasm, 'c--', label='Accuracy (sarcasm)')\n",
    "plt.plot(x, avg_recall_sarcasm, 'm--', label='AvgRec (sarcasm)')\n",
    "plt.plot(x, f1_sarcasm, 'y--', label='F1 (sarcasm)')\n",
    "plt.xticks(np.arange(7), top)\n",
    "plt.legend()\n",
    "plt.axhline(y=1/3, color='r', linestyle='dotted')\n",
    "plt.xlabel(\"Top-#\")\n",
    "plt.ylabel(\"Values\")\n",
    "plt.savefig('rulebased.png', dpi=1000)\n",
    "plt.show()"
   ],
   "metadata": {
    "collapsed": false
   }
  },
  {
   "cell_type": "code",
   "execution_count": null,
   "outputs": [],
   "source": [],
   "metadata": {
    "collapsed": false
   }
  }
 ],
 "metadata": {
  "kernelspec": {
   "display_name": "Python 3",
   "language": "python",
   "name": "python3"
  },
  "language_info": {
   "codemirror_mode": {
    "name": "ipython",
    "version": 2
   },
   "file_extension": ".py",
   "mimetype": "text/x-python",
   "name": "python",
   "nbconvert_exporter": "python",
   "pygments_lexer": "ipython2",
   "version": "2.7.6"
  }
 },
 "nbformat": 4,
 "nbformat_minor": 0
}
